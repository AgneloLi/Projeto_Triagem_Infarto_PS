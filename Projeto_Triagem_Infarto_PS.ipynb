{
  "nbformat": 4,
  "nbformat_minor": 0,
  "metadata": {
    "colab": {
      "provenance": [],
      "authorship_tag": "ABX9TyOlqXiMXD0b9CyvHj77KM4X",
      "include_colab_link": true
    },
    "kernelspec": {
      "name": "python3",
      "display_name": "Python 3"
    },
    "language_info": {
      "name": "python"
    }
  },
  "cells": [
    {
      "cell_type": "markdown",
      "metadata": {
        "id": "view-in-github",
        "colab_type": "text"
      },
      "source": [
        "<a href=\"https://colab.research.google.com/github/AgneloLi/Projeto_Triagem_Infarto_PS/blob/main/Projeto_Triagem_Infarto_PS.ipynb\" target=\"_parent\"><img src=\"https://colab.research.google.com/assets/colab-badge.svg\" alt=\"Open In Colab\"/></a>"
      ]
    },
    {
      "cell_type": "code",
      "execution_count": 71,
      "metadata": {
        "id": "B27Z511EZxyn"
      },
      "outputs": [],
      "source": [
        "!pip install -q -U google-generativeai"
      ]
    },
    {
      "cell_type": "code",
      "source": [
        "import google.generativeai as genai\n",
        "import pandas as pd\n",
        "import numpy as np\n",
        "from numpy.linalg import norm\n",
        "\n",
        "from google.colab import userdata\n",
        "\n",
        "api_key = userdata.get('SECRET_KEY')\n",
        "genai.configure(api_key=api_key)\n"
      ],
      "metadata": {
        "id": "W5SBqMmPZ3xl"
      },
      "execution_count": 72,
      "outputs": []
    },
    {
      "cell_type": "code",
      "source": [
        "# Configuração do modelo\n",
        "generation_config = {\n",
        "    \"candidate_count\": 1,\n",
        "    \"temperature\": 0.5\n",
        "}\n",
        "safety_settings = {\n",
        "    \"HARASSMENT\": \"BLOCK_NONE\",\n",
        "    \"HATE\": \"BLOCK_NONE\",\n",
        "    \"SEXUAL\": \"BLOCK_NONE\",\n",
        "    \"DANGEROUS\": \"BLOCK_NONE\"\n",
        "}"
      ],
      "metadata": {
        "id": "9xOxSfDeZ4ZZ"
      },
      "execution_count": 73,
      "outputs": []
    },
    {
      "cell_type": "code",
      "source": [
        "model = genai.GenerativeModel(model_name=\"gemini-1.0-pro\", generation_config=generation_config, safety_settings=safety_settings)\n",
        "modelEmb = \"models/embedding-001\"  # Modelo de embedding"
      ],
      "metadata": {
        "id": "BcUZpKtbZ-KI"
      },
      "execution_count": 74,
      "outputs": []
    },
    {
      "cell_type": "code",
      "source": [
        "# Base de dados de sintomas\n",
        "sintomas_data = [\n",
        "    {\n",
        "        \"Título\": \"\"\"--------CERTEZA DE INFARTO DO MIOCÁRIDO--------\n",
        "        \"\"\",\n",
        "        \"Conteúdo\": \"\"\"*************URGENTE************\n",
        "        Leve o paciente até a sala de EmergÊncia. Monitore os Sinais vitais, oxigênio e eletrocardiograma até o médico chegar.\"\"\",\n",
        "        \"Palavras-chave\": [\"10\", \"9\", \"8\",  \"forte\", \"intensa\", \"dor no braço\", \"mandíbula\", \"falta de ar\", \"pescoço\", \"náuseas sim\", \"suor frio\", \"adormecido\", \"dormente\", \"intensa\", \"irradia\", \"sudorese\", \"tontura\", \"palpitação\", \"palidez\", \"persistente\"]\n",
        "    },\n",
        "    {\n",
        "        \"Título\": \"\"\"--------SUEPEITA DE INFARTO DO MIOCÁRIDO--------\n",
        "        \"\"\",\n",
        "        \"Conteúdo\": \"\"\"------****SUSPEITA****-------\n",
        "        Leve imediatamente o paciente até a sala de emergência, ofereça apoio emocional até a chegada do médico. Evite falar sobre assuntos que causem estresse ou ansiedade. Preste atenção à pressão arterial, frequência cardíaca e respiração.\"\"\",\n",
        "        \"Palavras-chave\": [\"7\", \"6\", \"5\", \"fraca\",\"náuseas sim\", \"pouca\", \"desconforto\", \"queimação\", \"indigestão\", \"fadiga\", \"irradiação\", \"falta de ar\"]\n",
        "    },\n",
        "    {\n",
        "        \"Título\": \"\"\"--------SEM SUSPEITA DE INFARTO DO MIOCÁRIDO--------\n",
        "        \"\"\",\n",
        "        \"Conteúdo\": \"\"\"**Sem Perigo Iminente**\n",
        "        O paciente pode aguardar atendimento com os demais. Fique atento em caso de mudanças na situação clínica. Em caso de alteração, refaça o chat\"\"\",\n",
        "        \"Palavras-chave\": [\"4\", \"3\", \"2\", \"1\", \"0\", \"sem\",\"sem náuseas\", \"minima\", \"gases\", \"dor leve\", \"intermitente\"]\n",
        "    }\n",
        "]"
      ],
      "metadata": {
        "id": "tAXVR1fXZ-hX"
      },
      "execution_count": 135,
      "outputs": []
    },
    {
      "cell_type": "code",
      "source": [
        "\n",
        "df = pd.DataFrame(sintomas_data)\n",
        "\n",
        "def calcular_similaridade(respostas, sintomas_data):\n",
        "    # Tokenizar respostas\n",
        "    tokens = []\n",
        "    for resposta in respostas:\n",
        "        tokens.extend(resposta.split())\n",
        "\n",
        "    # Criar conjunto de todas as palavras-chave\n",
        "    palavras_chave = set()\n",
        "    for documento in sintomas_data:\n",
        "        palavras_chave.update(documento['Palavras-chave'])\n",
        "\n",
        "    # Calcular similaridade\n",
        "    similaridade = 0\n",
        "    for token in tokens:\n",
        "        if token in palavras_chave:\n",
        "            similaridade += 1\n",
        "\n",
        "    return similaridade\n",
        "\n",
        "def encontrar_documento_similar(respostas, sintomas_data):\n",
        "    max_similaridade = 0\n",
        "    indice_mais_similar = -1\n",
        "\n",
        "    for i, documento in df.iterrows():\n",
        "        similaridade = calcular_similaridade(respostas, [documento])  # Calcula a similaridade para cada documento\n",
        "\n",
        "        if similaridade > max_similaridade:\n",
        "            max_similaridade = similaridade\n",
        "            indice_mais_similar = i\n",
        "\n",
        "    return indice_mais_similar"
      ],
      "metadata": {
        "id": "4beaMeomaA44"
      },
      "execution_count": 136,
      "outputs": []
    },
    {
      "cell_type": "code",
      "source": [
        "print(\"Chatbot de Triagem Hospitalar:\")\n",
        "while True:\n",
        "    # forte, fraca ou sem\n",
        "    intensidade = input(\"1. Sente dor no peito ou nas costas? \")\n",
        "    # De 0 à 10\n",
        "    dor_peito = input(\"2. Qual a intensidade da dor no peito? \")\n",
        "    # intensa,pouca ou minima\n",
        "    falta_ar = input(\"3. Está com falta de ar? \").lower()\n",
        "    nauseas = input(\"4. Sente náuseas? (sim/não) \").lower()\n",
        "    suor_frio = input(\"5. Tem suor frio? (sim/não) \").lower()\n",
        "    dor_braco = input(\"6. Sente dor no braço esquerdo? (sim/não) \").lower()\n",
        "\n",
        "    respostas = [f\"{intensidade}\", f\"{dor_peito}\", falta_ar, f\"náuseas {nauseas}\", f\"suor frio {suor_frio}\", f\"dor no braço {dor_braco}\"]\n",
        "\n",
        "    indice_documento_similar = encontrar_documento_similar(respostas, sintomas_data)\n",
        "    documento_similar = df.iloc[indice_documento_similar]\n",
        "\n",
        "    print(\"\\nDocumento mais similar:\")\n",
        "    print(f\"Título: {documento_similar['Título']}\")\n",
        "    print(f\"Conteúdo: {documento_similar['Conteúdo']}\\n\")\n",
        "\n",
        "    continuar = input(\"Deseja triar outro paciente? (s/n) \")\n",
        "    if continuar.lower() != 's':\n",
        "        break"
      ],
      "metadata": {
        "colab": {
          "base_uri": "https://localhost:8080/"
        },
        "id": "xE_IkfxveIl3",
        "outputId": "c2ad7c8a-6b74-4a73-f2cf-68597169852a"
      },
      "execution_count": 137,
      "outputs": [
        {
          "name": "stdout",
          "output_type": "stream",
          "text": [
            "Chatbot de Triagem Hospitalar:\n",
            "1. Sente dor no peito? forte\n",
            "2. Qual a intensidade da dor no peito? 10\n",
            "3. Está com falta de ar? sim\n",
            "4. Sente náuseas? (sim/não) sim\n",
            "5. Tem suor frio? (sim/não) sim\n",
            "6. Sente dor no braço esquerdo? (sim/não) sim\n",
            "\n",
            "Documento mais similar:\n",
            "Título: --------CERTEZA DE INFARTO DO MIOCÁRIDO--------\n",
            "        \n",
            "Conteúdo: *************URGENTE************\n",
            "        Leve o paciente até a sala de EmergÊncia. Monitore os Sinais vitais, oxigênio e eletrocardiograma até o médico chegar.\n",
            "\n",
            "Deseja triar outro paciente? (s/n) s\n",
            "1. Sente dor no peito? fraca\n",
            "2. Qual a intensidade da dor no peito? 5\n",
            "3. Está com falta de ar? nao\n",
            "4. Sente náuseas? (sim/não) sim\n",
            "5. Tem suor frio? (sim/não) nao\n",
            "6. Sente dor no braço esquerdo? (sim/não) nao\n",
            "\n",
            "Documento mais similar:\n",
            "Título: --------SUEPEITA DE INFARTO DO MIOCÁRIDO--------\n",
            "        \n",
            "Conteúdo: ------****SUSPEITA****-------\n",
            "        Leve imediatamente o paciente até a sala de emergência, ofereça apoio emocional até a chegada do médico. Evite falar sobre assuntos que causem estresse ou ansiedade. Preste atenção à pressão arterial, frequência cardíaca e respiração.\n",
            "\n",
            "Deseja triar outro paciente? (s/n) s\n",
            "1. Sente dor no peito? sem\n",
            "2. Qual a intensidade da dor no peito? 4\n",
            "3. Está com falta de ar? nao\n",
            "4. Sente náuseas? (sim/não) nao\n",
            "5. Tem suor frio? (sim/não) sim\n",
            "6. Sente dor no braço esquerdo? (sim/não) nao\n",
            "\n",
            "Documento mais similar:\n",
            "Título: --------SEM SUSPEITA DE INFARTO DO MIOCÁRIDO--------\n",
            "        \n",
            "Conteúdo: **Sem Perigo Iminente**\n",
            "        O paciente pode aguardar atendimento com os demais. Fique atento em caso de mudanças na situação clínica. Em caso de alteração, refaça o chat\n",
            "\n",
            "Deseja triar outro paciente? (s/n) n\n"
          ]
        }
      ]
    },
    {
      "cell_type": "markdown",
      "source": [],
      "metadata": {
        "id": "wUTZRoT1eIZw"
      }
    }
  ]
}